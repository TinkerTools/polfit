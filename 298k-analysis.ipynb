{
 "metadata": {
  "language_info": {
   "codemirror_mode": {
    "name": "ipython",
    "version": 3
   },
   "file_extension": ".py",
   "mimetype": "text/x-python",
   "name": "python",
   "nbconvert_exporter": "python",
   "pygments_lexer": "ipython3",
   "version": "3.6.12"
  },
  "orig_nbformat": 2,
  "kernelspec": {
   "name": "python3612jvsc74a57bd0b103af2e68b33cdabd876437f1e758f572bb65b84c93c470e89e51ede3db4cc0",
   "display_name": "Python 3.6.12 64-bit ('py36': conda)"
  },
  "metadata": {
   "interpreter": {
    "hash": "b103af2e68b33cdabd876437f1e758f572bb65b84c93c470e89e51ede3db4cc0"
   }
  }
 },
 "nbformat": 4,
 "nbformat_minor": 2,
 "cells": [
  {
   "cell_type": "code",
   "execution_count": 1,
   "metadata": {},
   "outputs": [],
   "source": [
    "import numpy as np\n",
    "import os\n",
    "import sys\n",
    "import matplotlib.pyplot as plt\n",
    "import matplotlib.axes as ax\n",
    "import math\n",
    "from matplotlib.ticker import AutoMinorLocator\n",
    "from matplotlib.ticker import MultipleLocator, FormatStrFormatter\n",
    "import matplotlib.gridspec as gridspec\n",
    "from IPython.display import Markdown, display, HTML\n",
    "from time import gmtime, strftime\n",
    "import pickle\n",
    "import analyzetool\n",
    "import analyzetool.gas as gasAnalyze\n",
    "import analyzetool.liquid as liqAnalyze\n",
    "import warnings\n",
    "warnings.filterwarnings('ignore') # make the notebook nicer\n",
    "\n",
    "%matplotlib inline\n",
    "\n",
    "display(HTML(\"<style>.rendered_html { font-size: 20px; }</style>\"))\n",
    "display(HTML(\"<style>.container { width:100% !important; }</style>\"))\n",
    "\n",
    "KB_J = 1.38064852e-23 #J/K\n",
    "E0 = 8.854187817620e-12\n",
    "N_vis = 8.91e-4 #Pa.s\n",
    "R=1.9872036E-3\n",
    "NA=6.02214129*(1e23)\n",
    "\n",
    "dref = 997.045\n",
    "hvref = 43.989/4.184\n",
    "alpharef = 2.572\n",
    "kapparef = 45.247\n",
    "dielref = 78.409\n",
    "diffref = 2.23\n",
    "angref = 106.1\n",
    "\n",
    "def diff_correction(box_size,T):\n",
    "    const = (2.837297)/(6*np.pi)\n",
    "    corr = (1e4)*const*KB_J*T/(N_vis*box_size*(1.0E-10))\n",
    "    return corr\n",
    "\n",
    "def devcalc(a,ref):\n",
    "    return 100*(a-ref)/ref"
   ]
  },
  {
   "cell_type": "code",
   "execution_count": 7,
   "metadata": {},
   "outputs": [
    {
     "output_type": "execute_result",
     "data": {
      "text/plain": [
       "(3, 3)"
      ]
     },
     "metadata": {},
     "execution_count": 7
    }
   ],
   "source": [
    "base_dir = \"/user/roseane/HIPPO/water_param/hippo_tinker9\"\n",
    "sim_dir = f\"{base_dir}/simulations/init_params\"\n",
    "#sim_dir = \"/work/roseane/HIPPO/water_param/forcebalance/cf-trial-1/fit.tmp/Liquid/iter_0000/298.15K-1.0atm\"\n",
    "ref_dir = \"/user/roseane/HIPPO/water_param/reference_data\"\n",
    "dir_gr = f\"{ref_dir}/g_r_data/\"\n",
    "\n",
    "sim_dir = \"/user/roseane/HIPPO/water_param/hippo_tinker9/simulations/init_params\"\n",
    "sim_dir = \"/work/roseane/HIPPO/water_param/hippo_tinker9/simulations/t18-50A-NPT\"\n",
    "#sim_dir = \"/work/roseane/HIPPO/water_param/forcebalance/test_iter/trial18-NPT\"\n",
    "res_dir = f'{sim_dir}/results'\n",
    "\n",
    "\n",
    "save_dir = f\"{sim_dir}/results\"\n",
    "os.system(f\"mkdir -p {save_dir}\")\n",
    "save = True\n",
    "\n",
    "t = 298.15\n",
    "tsav = 298\n",
    "sim_path = f\"{sim_dir}/sim_{tsav}\"\n",
    "dirnm = sim_path.split('/')[-2]\n",
    "\n",
    "liquid = liqAnalyze.Liquid(sim_path,xyzfile='liquid.xyz',n_atoms_mol=3,temperature=t,equil=2000,\n",
    "                         logfile='liquid.log',analyzelog='analysis.log')\n",
    "#                          logfile=None,analyzelog='analysis.log')\n",
    "\n",
    "gas_dir = \"/work/roseane/HIPPO/water_param/hippo_tinker9/simulations/t18-50A-NVT\"\n",
    "gas_dir = \"/work/roseane/HIPPO/water_param/hippo_tinker9/simulations/t18-50A-NVT/gas-simulations\"\n",
    "#gas_dir=sim_dir\n",
    "liquid.all_properties(f'{gas_dir}/sim_{tsav}/gas.log',f'{sim_path}/analysis.log')\n",
    "liquid.get_diffusion(f'{sim_path}/diffusion.log')\n",
    "\n",
    "\n",
    "gOO = liquid.get_g_r(f\"{sim_path}/g_OO_r.log\")\n",
    "gOH = liquid.get_g_r(f\"{sim_path}/g_OH_r.log\")\n",
    "gHH = liquid.get_g_r(f\"{sim_path}/g_HH_r.log\")\n",
    "\n",
    "#ref g_r\n",
    "g_OO_exp = np.load(f\"{dir_gr}/g_OO_exp.npy\")\n",
    "g_OO2 = np.load(f\"{dir_gr}/g_OO2.npy\")\n",
    "g_OO_APS2013 = np.load(f\"{dir_gr}/g_OO_APS2013.npy\")\n",
    "g_OO_APS2014 = np.load(f\"{dir_gr}/g_OO_APS2014.npy\")\n",
    "g_OO_s1986 = np.load(f\"{dir_gr}/g_OO_s1986.npy\")\n",
    "g_OO_s2014 = np.load(f\"{dir_gr}/g_OO_s2014.npy\")\n",
    "\n",
    "        \n",
    "res_data = \"\"\"\n",
    "### Average properties for %s (298.15 K - 1 atm)\n",
    "Density      %7.3f\n",
    "H\n",
    "\n",
    "\"\"\" % (dirnm,liquid.median_diffusion)\n",
    "print(\"%s @ %.2f K\" % (dirnm,t))\n",
    "print(\"Avg. Density: %5.2f kg/m^3     (%5.2f)\" % (liquid.avgRho*1000,devcalc(liquid.avgRho*1000,dref)))\n",
    "print(\"Avg. PE/mol : %5.2f kcal/mol\" % (liquid.PEmol))\n",
    "print(\"Heat Capac. : %5.2f cal/mol/K\" % (liquid.Cp))\n",
    "print(\"Isot.Compr. : %5.2f 10^-6 bar    (%5.2f)\" % (liquid.kappa,devcalc(liquid.kappa,kapparef)))\n",
    "print(\"T.Exp.Coef. : %5.2f 10^-4 1/K    (%5.1f)\" % ((1e4)*liquid.alpha,devcalc((1e4)*liquid.alpha,alpharef)))\n",
    "print(\"Dielectric  : %5.2f              (%5.2f)\" % (liquid.dielectric,devcalc(liquid.dielectric,dielref)))\n",
    "print(\"Self-diff.  : %5.2f 10^-5 cm^2/s (%5.2f)\" % (liquid.median_diffusion,devcalc(liquid.median_diffusion,diffref)))\n",
    "print(\"Heat Vapor. : %5.2f Kcal/mol     (%5.2f)\" % (liquid.HV,devcalc(liquid.HV,hvref)))\n",
    "print(\"Gas Avg.PE. : %5.2f Kcal/mol\" % (liquid.gasAvgPE))\n",
    "\n",
    "#Avg Angle\n",
    "# liquid.get_coordinates('%s/liquid.arc' % sim_path)\n",
    "# liquid.compute_avg_angle()\n",
    "# langle = liquid.avg_angle\n",
    "# print(\"Avg. Angle  : %5.2f deg         (%5.2f)\" % (langle,devcalc(langle,angref)))"
   ]
  },
  {
   "cell_type": "code",
   "execution_count": 5,
   "metadata": {},
   "outputs": [
    {
     "output_type": "execute_result",
     "data": {
      "text/plain": [
       "array([1, 4, 7])"
      ]
     },
     "metadata": {},
     "execution_count": 5
    }
   ],
   "source": []
  },
  {
   "cell_type": "code",
   "execution_count": null,
   "metadata": {},
   "outputs": [],
   "source": []
  }
 ]
}